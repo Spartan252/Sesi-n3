{
 "cells": [
  {
   "cell_type": "code",
   "execution_count": 14,
   "metadata": {},
   "outputs": [
    {
     "name": "stdout",
     "output_type": "stream",
     "text": [
      "\n",
      "1\n",
      "22\n",
      "333\n",
      "4444\n",
      "55555\n",
      "666666\n",
      "55555\n",
      "4444\n",
      "333\n",
      "22\n",
      "1\n",
      "\n"
     ]
    }
   ],
   "source": [
    "def patron_numeros(n):\n",
    "    # Parte ascendente\n",
    "    for i in range(1, n+1):\n",
    "        print(str(i-1) * (i-1))\n",
    "    \n",
    "    # Parte descendente    \n",
    "    for i in range(n+1, 0, -1):\n",
    "        print(str(i-1) * (i-1))\n",
    "\n",
    "# Llamar a la función con 6\n",
    "patron_numeros(6)\n",
    "\t "
   ]
  },
  {
   "cell_type": "code",
   "execution_count": 4,
   "metadata": {},
   "outputs": [
    {
     "name": "stdout",
     "output_type": "stream",
     "text": [
      "1\n",
      "22\n",
      "333\n",
      "4444\n",
      "333\n",
      "22\n",
      "1\n"
     ]
    }
   ],
   "source": [
    "def patron(n):\n",
    "    [print(f\"{i}\" * i) for i in list(range(1, n + 1)) + list(range(n - 1, 0, -1))]\n",
    "\n",
    "patron(4)"
   ]
  },
  {
   "cell_type": "code",
   "execution_count": 5,
   "metadata": {},
   "outputs": [
    {
     "name": "stdout",
     "output_type": "stream",
     "text": [
      "1 \n",
      "2 2 \n",
      "3 3 3 \n",
      "4 4 4 4 \n",
      "3 3 3 \n",
      "2 2 \n",
      "1 \n"
     ]
    }
   ],
   "source": [
    "def patron(n):\n",
    "    from functools import reduce\n",
    "    reduce(lambda _, i: print(f\"{i} \" * i), list(range(1, n + 1)) + list(range(n - 1, 0, -1)), None)\n",
    "\n",
    "patron(4)"
   ]
  },
  {
   "cell_type": "code",
   "execution_count": 6,
   "metadata": {},
   "outputs": [
    {
     "name": "stdout",
     "output_type": "stream",
     "text": [
      "56\n"
     ]
    }
   ],
   "source": [
    "def suma_cuadrados_pares(lista):\n",
    "    return sum([x**2 for x in lista if x % 2 == 0])\n",
    "\n",
    "print(suma_cuadrados_pares([1, 2, 3, 4, 5, 6]))"
   ]
  },
  {
   "cell_type": "code",
   "execution_count": 7,
   "metadata": {},
   "outputs": [
    {
     "name": "stdout",
     "output_type": "stream",
     "text": [
      "4\n"
     ]
    }
   ],
   "source": [
    "def contar_vocales(cadena):\n",
    "    return sum([1 for c in cadena.lower() if c in 'aeiou'])\n",
    "\n",
    "print(contar_vocales(\"Hola Mundo\"))"
   ]
  },
  {
   "cell_type": "code",
   "execution_count": 8,
   "metadata": {},
   "outputs": [
    {
     "name": "stdout",
     "output_type": "stream",
     "text": [
      "[2, 3, 5, 7, 11, 13, 17, 19]\n"
     ]
    }
   ],
   "source": [
    "def es_primo(num):\n",
    "    return num > 1 and all(num % i != 0 for i in range(2, int(num**0.5) + 1))\n",
    "\n",
    "def primos_hasta(n):\n",
    "    return [x for x in range(2, n + 1) if es_primo(x)]\n",
    "\n",
    "print(primos_hasta(20))"
   ]
  },
  {
   "cell_type": "code",
   "execution_count": 9,
   "metadata": {},
   "outputs": [
    {
     "name": "stdout",
     "output_type": "stream",
     "text": [
      "estás cómo Hola\n"
     ]
    }
   ],
   "source": [
    "def invertir_palabras(frase):\n",
    "    palabras = frase.split()\n",
    "    invertida = []\n",
    "    for i in range(len(palabras) - 1, -1, -1):\n",
    "        invertida.append(palabras[i])\n",
    "    return ' '.join(invertida)\n",
    "\n",
    "print(invertir_palabras(\"Hola cómo estás\"))"
   ]
  },
  {
   "cell_type": "code",
   "execution_count": 10,
   "metadata": {},
   "outputs": [
    {
     "name": "stdout",
     "output_type": "stream",
     "text": [
      "estás cómo Hola\n"
     ]
    }
   ],
   "source": [
    "def invertir_palabras(frase):\n",
    "    return ' '.join([palabra for palabra in frase.split()[::-1]])\n",
    "\n",
    "print(invertir_palabras(\"Hola cómo estás\"))"
   ]
  },
  {
   "cell_type": "code",
   "execution_count": 4,
   "metadata": {},
   "outputs": [
    {
     "name": "stdout",
     "output_type": "stream",
     "text": [
      "{3, 4}\n",
      "{8, 6, 7}\n",
      "{1, 2, 5}\n",
      "{1, 2, 3, 4, 5, 6, 7, 8}\n"
     ]
    }
   ],
   "source": [
    "set_1 = set([1, 2, 3, 4, 5])\n",
    "set_2 =set([1, 2, 5, 6, 7, 8])\n",
    "\n",
    "print(set_1 - set_2)\n",
    "print(set_2 - set_1)\n",
    "print(set_1 & set_2)\n",
    "print(set_1 | set_2)"
   ]
  },
  {
   "cell_type": "code",
   "execution_count": 7,
   "metadata": {},
   "outputs": [
    {
     "name": "stdout",
     "output_type": "stream",
     "text": [
      "{'nombre': 'Juan', 'edad': 30, 'apellido': 'López'}\n",
      "Juan\n",
      "3\n",
      "True\n",
      "True\n"
     ]
    }
   ],
   "source": [
    "persona = {\"nombre\" : \"Juan\", \"edad\" : 30, \"apellido\" : \"López\"}\n",
    "\n",
    "print(persona)\n",
    "print(persona[\"nombre\"])\n",
    "print(len(persona))\n",
    "print(\"nombre\" in persona)\n",
    "print(\"Juan\" in persona[\"nombre\"])"
   ]
  },
  {
   "cell_type": "code",
   "execution_count": 2,
   "metadata": {},
   "outputs": [
    {
     "name": "stdout",
     "output_type": "stream",
     "text": [
      "The array after sorting in Ascending Order by selection sort is:\n",
      "[-202, -97, -9, -2, 0, 11, 45, 88, 747]\n"
     ]
    }
   ],
   "source": [
    "# Selection sort in Python\n",
    "# time complexity O(n*n)\n",
    "#sorting by finding min_index\n",
    "def selectionSort(array, size):\n",
    "\t\n",
    "\tfor ind in range(size):\n",
    "\t\tmin_index = ind\n",
    "\n",
    "\t\tfor j in range(ind + 1, size):\n",
    "\t\t\t# select the minimum element in every iteration\n",
    "\t\t\tif array[j] < array[min_index]:\n",
    "\t\t\t\tmin_index = j\n",
    "\t\t# swapping the elements to sort the array\n",
    "\t\t(array[ind], array[min_index]) = (array[min_index], array[ind])\n",
    "\n",
    "arr = [-2, 45, 0, 11, -9,88,-97,-202,747]\n",
    "size = len(arr)\n",
    "selectionSort(arr, size)\n",
    "print('The array after sorting in Ascending Order by selection sort is:')\n",
    "print(arr)\n"
   ]
  }
 ],
 "metadata": {
  "kernelspec": {
   "display_name": "Python 3",
   "language": "python",
   "name": "python3"
  },
  "language_info": {
   "codemirror_mode": {
    "name": "ipython",
    "version": 3
   },
   "file_extension": ".py",
   "mimetype": "text/x-python",
   "name": "python",
   "nbconvert_exporter": "python",
   "pygments_lexer": "ipython3",
   "version": "3.11.0"
  }
 },
 "nbformat": 4,
 "nbformat_minor": 2
}
