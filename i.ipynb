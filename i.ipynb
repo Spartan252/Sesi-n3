{
 "cells": [
  {
   "cell_type": "code",
   "execution_count": 11,
   "metadata": {},
   "outputs": [
    {
     "name": "stdout",
     "output_type": "stream",
     "text": [
      "*\n",
      "**\n",
      "***\n",
      "****\n",
      "*****\n",
      "******\n",
      "*****\n",
      "****\n",
      "***\n",
      "**\n",
      "*\n"
     ]
    }
   ],
   "source": [
    "def patron_asteriscos(n):\n",
    "    # Parte ascendente\n",
    "    for i in range(1, n):\n",
    "        print('*' * i)\n",
    "    \n",
    "    # Parte descendente\n",
    "    for i in range(n, 0, -1):\n",
    "        print('*' * i)\n",
    "\n",
    "# Llamar a la función con 6\n",
    "patron_asteriscos(6)\n",
    "\t "
   ]
  },
  {
   "cell_type": "code",
   "execution_count": null,
   "metadata": {},
   "outputs": [],
   "source": [
    "def pir2 (n):\n",
    "    for i in range (n):\n",
    "        print(n, end= \" \")\n",
    "pir2(6)"
   ]
  },
  {
   "cell_type": "code",
   "execution_count": null,
   "metadata": {},
   "outputs": [],
   "source": [
    "def pir3 (n):\n",
    "    return [print(n, end= \" \") for i in range (n)]\n",
    "\n",
    "pir3(6)"
   ]
  },
  {
   "cell_type": "code",
   "execution_count": null,
   "metadata": {},
   "outputs": [],
   "source": [
    "def pir4 (n):\n",
    "    return map(lambda n : n, n)"
   ]
  }
 ],
 "metadata": {
  "kernelspec": {
   "display_name": "Python 3",
   "language": "python",
   "name": "python3"
  },
  "language_info": {
   "codemirror_mode": {
    "name": "ipython",
    "version": 3
   },
   "file_extension": ".py",
   "mimetype": "text/x-python",
   "name": "python",
   "nbconvert_exporter": "python",
   "pygments_lexer": "ipython3",
   "version": "3.11.0"
  }
 },
 "nbformat": 4,
 "nbformat_minor": 2
}
