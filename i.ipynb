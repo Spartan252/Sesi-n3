{
 "cells": [
  {
   "cell_type": "code",
   "execution_count": 4,
   "metadata": {},
   "outputs": [
    {
     "name": "stdout",
     "output_type": "stream",
     "text": [
      "\n",
      "\n",
      "*\n",
      "**\n",
      "***\n",
      "****\n",
      "*****"
     ]
    }
   ],
   "source": [
    "def pir (n):\n",
    "\tfor i in range (n):\n",
    "\t\tprint(\"\")\n",
    "\t\tfor x in range (i):\n",
    "\t\t\tprint(\"*\", end=\"\")\n",
    "\t\t\n",
    "pir(6)\t\n",
    "\t "
   ]
  },
  {
   "cell_type": "code",
   "execution_count": null,
   "metadata": {},
   "outputs": [],
   "source": [
    "def pir2 (n):\n",
    "    for i in range (n):\n",
    "        print(n, end= \" \")\n",
    "pir2(6)"
   ]
  },
  {
   "cell_type": "code",
   "execution_count": null,
   "metadata": {},
   "outputs": [],
   "source": [
    "def pir3 (n):\n",
    "    return [print(n, end= \" \") for i in range (n)]\n",
    "\n",
    "pir3(6)"
   ]
  },
  {
   "cell_type": "code",
   "execution_count": null,
   "metadata": {},
   "outputs": [],
   "source": [
    "def pir4 (n):\n",
    "    return map(lambda n : n, n)"
   ]
  }
 ],
 "metadata": {
  "kernelspec": {
   "display_name": "Python 3",
   "language": "python",
   "name": "python3"
  },
  "language_info": {
   "codemirror_mode": {
    "name": "ipython",
    "version": 3
   },
   "file_extension": ".py",
   "mimetype": "text/x-python",
   "name": "python",
   "nbconvert_exporter": "python",
   "pygments_lexer": "ipython3",
   "version": "3.11.0"
  }
 },
 "nbformat": 4,
 "nbformat_minor": 2
}
