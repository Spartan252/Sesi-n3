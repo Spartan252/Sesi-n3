{
 "cells": [
  {
   "cell_type": "code",
   "execution_count": 32,
   "metadata": {},
   "outputs": [
    {
     "name": "stdout",
     "output_type": "stream",
     "text": [
      "\n",
      "1\n",
      "22\n",
      "333\n",
      "4444\n",
      "55555\n",
      "666666\n",
      "7777777\n",
      "666666\n",
      "55555\n",
      "4444\n",
      "333\n",
      "22\n",
      "1\n"
     ]
    }
   ],
   "source": [
    "def piramid(n):\n",
    "    for x in range (n+1):\n",
    "        print(f\"{x}\" *x)\n",
    "    for x in range (n-1, 0,-1):\n",
    "        print(f\"{x}\" *x)\n",
    "piramid(7)"
   ]
  },
  {
   "cell_type": "code",
   "execution_count": 20,
   "metadata": {},
   "outputs": [
    {
     "name": "stdout",
     "output_type": "stream",
     "text": [
      "20\n"
     ]
    }
   ],
   "source": [
    "def sum_2 (n):\n",
    "    sum = 0\n",
    "    for x in n:\n",
    "        if x//2 == x/2:\n",
    "            sum += pow(x, 2)\n",
    "    print(sum)\n",
    "\n",
    "sum_2([1, 2, 3, 4, 5])"
   ]
  },
  {
   "cell_type": "code",
   "execution_count": 1,
   "metadata": {},
   "outputs": [
    {
     "name": "stdout",
     "output_type": "stream",
     "text": [
      "6\n"
     ]
    }
   ],
   "source": [
    "def vocals (n):\n",
    "    contador = 0\n",
    "    for x in n.lower():\n",
    "        if x in (\"aeiou\"):\n",
    "            contador += 1\n",
    "    print(contador)\n",
    "\n",
    "vocals(\"hola como estas?\")"
   ]
  },
  {
   "cell_type": "code",
   "execution_count": null,
   "metadata": {},
   "outputs": [
    {
     "name": "stdout",
     "output_type": "stream",
     "text": [
      "[2, 3, 5, 7, 11, 13, 17, 19]\n"
     ]
    }
   ],
   "source": [
    "def prim(n):\n",
    "    numbers = []\n",
    "    # Empezamos desde 2, el primer número primo\n",
    "    for x in range(2, n + 1):\n",
    "        # Solo necesitamos verificar hasta la raíz cuadrada de x\n",
    "        for y in range(2, int(x ** 0.5) + 1):\n",
    "            if x % y == 0:\n",
    "                break\n",
    "        else:\n",
    "            numbers.append(x)\n",
    "    print(numbers)\n",
    "\n",
    "prim(20)"
   ]
  },
  {
   "cell_type": "code",
   "execution_count": null,
   "metadata": {},
   "outputs": [
    {
     "name": "stdout",
     "output_type": "stream",
     "text": [
      "?satse omoc aloh\n"
     ]
    }
   ],
   "source": [
    "def reverse(n):\n",
    "    print(n[::-1])\n",
    "\n",
    "reverse(\"hola como estas?\")"
   ]
  }
 ],
 "metadata": {
  "kernelspec": {
   "display_name": "Python 3",
   "language": "python",
   "name": "python3"
  },
  "language_info": {
   "codemirror_mode": {
    "name": "ipython",
    "version": 3
   },
   "file_extension": ".py",
   "mimetype": "text/x-python",
   "name": "python",
   "nbconvert_exporter": "python",
   "pygments_lexer": "ipython3",
   "version": "3.11.0"
  }
 },
 "nbformat": 4,
 "nbformat_minor": 2
}
